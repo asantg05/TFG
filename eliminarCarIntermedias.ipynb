{
 "cells": [
  {
   "cell_type": "code",
   "execution_count": 7,
   "metadata": {},
   "outputs": [],
   "source": [
    "import librosa #Paquete de analisis de audio\n",
    "import librosa.display\n",
    "import IPython.display as ipd\n",
    "import pandas as pd\n",
    "import numpy as np\n",
    "import matplotlib.pyplot as plt\n",
    "%matplotlib inline\n",
    "import glob\n",
    "import os\n",
    "from PIL import Image\n",
    "import pathlib\n",
    "import csv\n",
    "import glob\n",
    "import shutil"
   ]
  },
  {
   "cell_type": "code",
   "execution_count": 8,
   "metadata": {},
   "outputs": [
    {
     "data": {
      "text/plain": [
       "'C:\\\\Users\\\\andre\\\\OneDrive\\\\Escritorio\\\\TFG\\\\Codigo'"
      ]
     },
     "execution_count": 8,
     "metadata": {},
     "output_type": "execute_result"
    }
   ],
   "source": [
    "# -*- coding: utf-8 -*-\n",
    "\"\"\"\n",
    "Created on Sun Feb 23 23:27:13 2020\n",
    "\n",
    "@author: andre\n",
    "\"\"\"\n",
    "\n",
    "import librosa #Paquete de analisis de audio\n",
    "import librosa.display\n",
    "import IPython.display as ipd\n",
    "import pandas as pd\n",
    "import numpy as np\n",
    "import matplotlib.pyplot as plt\n",
    "import glob\n",
    "import os\n",
    "from PIL import Image\n",
    "import pathlib\n",
    "import csv\n",
    "import glob\n",
    "import shutil\n",
    "from os import rmdir\n",
    "\n",
    "\n",
    "os.chdir('/Users/andre/OneDrive/Escritorio/TFG/Codigo')#C:\\Users\\andre\\OneDrive\\Escritorio\\BiometryVoice\\BiometriaPorVoz-master\n",
    "os.getcwd()\n",
    "\n",
    "listaIds = [] #En vez de usar el csv, metemos en una lista los ides\n",
    "ide = \"id\"\n",
    "numero = 10270\n",
    "for i in range (0,40):\n",
    "    cadena = ide+str(numero)\n",
    "    listaIds.append(cadena)\n",
    "    numero = numero + 1\n",
    "    i = i+1\n",
    "#print(listaIds)\n",
    "\n",
    "contador = 0\n",
    "lista=[]#Esta es la lista auxiliar para cambiar el nombre de los wavs\n",
    "\n",
    "for carpetasIdes in listaIds:\n",
    "    carpetasRaras = os.listdir(f'./datasetCompletoPruebas/{carpetasIdes}')\n",
    "    for x in carpetasRaras:\n",
    "        #rmdir(f'./datasetCompletoPruebas/{carpetasIdes}/{x}') #NO ME DEJA ELIMINAR CARPETAS RARAS POR PERMISOS\n",
    "        \n",
    "        files = os.listdir(f'./datasetCompletoPruebas/{carpetasIdes}/{x}')\n",
    "        for fname in files:\n",
    "            fname = f'./datasetCompletoPruebas/{carpetasIdes}/{x}/{fname}'\n",
    "            #print(fname)\n",
    "            \n",
    "            lista.append((\"au\") + str(contador))\n",
    "            #print(lista)\n",
    "            \n",
    "            #ASI RENOMBRAMOS - HACEMOS ESTO LO PRIMERO\n",
    "            #os.rename(fname, f'./datasetCompletoPruebas/{carpetasIdes}/{x}/{lista[contador]}.wav')\n",
    "            \n",
    "            #ASI MOVEMOS - LO SEGUNDO\n",
    "            #shutil.move(fname, f'./datasetCompletoPruebas/{carpetasIdes}/{lista[contador]}.wav')\n",
    "            \n",
    "            contador = contador + 1\n",
    "            #print(contador) #Numero de wavs que hay en todo el dataset\n",
    "\n",
    "print(\"--------END---------\")"
   ]
  }
 ],
 "metadata": {
  "kernelspec": {
   "display_name": "Python 3",
   "language": "python",
   "name": "python3"
  },
  "language_info": {
   "codemirror_mode": {
    "name": "ipython",
    "version": 3
   },
   "file_extension": ".py",
   "mimetype": "text/x-python",
   "name": "python",
   "nbconvert_exporter": "python",
   "pygments_lexer": "ipython3",
   "version": "3.7.3"
  }
 },
 "nbformat": 4,
 "nbformat_minor": 4
}
