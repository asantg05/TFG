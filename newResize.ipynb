{
 "cells": [
  {
   "cell_type": "code",
   "execution_count": 5,
   "metadata": {},
   "outputs": [],
   "source": [
    "import librosa #Paquete de analisis de audio\n",
    "import librosa.display\n",
    "import IPython.display as ipd\n",
    "import pandas as pd\n",
    "import numpy as np\n",
    "import matplotlib.pyplot as plt\n",
    "%matplotlib inline\n",
    "import glob\n",
    "import os\n",
    "from PIL import Image, ImageOps\n",
    "import pathlib\n",
    "import csv"
   ]
  },
  {
   "cell_type": "code",
   "execution_count": 6,
   "metadata": {},
   "outputs": [
    {
     "data": {
      "text/plain": [
       "'C:\\\\Users\\\\andre\\\\OneDrive\\\\Escritorio\\\\TFG\\\\Codigo'"
      ]
     },
     "execution_count": 6,
     "metadata": {},
     "output_type": "execute_result"
    }
   ],
   "source": [
    "os.chdir('/Users/andre/OneDrive/Escritorio/TFG/Codigo')#/Users/andre/OneDrive/Escritorio/BiometryVoice/BiometriaPorVoz-master\n",
    "os.getcwd()"
   ]
  },
  {
   "cell_type": "code",
   "execution_count": 7,
   "metadata": {},
   "outputs": [
    {
     "ename": "KeyboardInterrupt",
     "evalue": "",
     "output_type": "error",
     "traceback": [
      "\u001b[1;31m---------------------------------------------------------------------------\u001b[0m",
      "\u001b[1;31mKeyboardInterrupt\u001b[0m                         Traceback (most recent call last)",
      "\u001b[1;32m<ipython-input-7-1e4d170eb7c0>\u001b[0m in \u001b[0;36m<module>\u001b[1;34m\u001b[0m\n\u001b[0;32m      7\u001b[0m \u001b[1;33m\u001b[0m\u001b[0m\n\u001b[0;32m      8\u001b[0m     \u001b[1;32mfor\u001b[0m \u001b[0ma\u001b[0m \u001b[1;32min\u001b[0m \u001b[0mPruebaDataset\u001b[0m\u001b[1;33m:\u001b[0m\u001b[1;31m#Recorremos el CSV, siendo a cada id\u001b[0m\u001b[1;33m\u001b[0m\u001b[1;33m\u001b[0m\u001b[0m\n\u001b[1;32m----> 9\u001b[1;33m         \u001b[0mpathlib\u001b[0m\u001b[1;33m.\u001b[0m\u001b[0mPath\u001b[0m\u001b[1;33m(\u001b[0m\u001b[1;34mf'E:/TrabajoFinGrado/Data2_200x200/{a}'\u001b[0m\u001b[1;33m)\u001b[0m\u001b[1;33m.\u001b[0m\u001b[0mmkdir\u001b[0m\u001b[1;33m(\u001b[0m\u001b[0mparents\u001b[0m\u001b[1;33m=\u001b[0m\u001b[1;32mTrue\u001b[0m\u001b[1;33m,\u001b[0m \u001b[0mexist_ok\u001b[0m\u001b[1;33m=\u001b[0m\u001b[1;32mTrue\u001b[0m\u001b[1;33m)\u001b[0m\u001b[1;31m#Creamos carpetas para cada id\u001b[0m\u001b[1;33m\u001b[0m\u001b[1;33m\u001b[0m\u001b[0m\n\u001b[0m\u001b[0;32m     10\u001b[0m         \u001b[1;32mfor\u001b[0m \u001b[0mroot\u001b[0m\u001b[1;33m,\u001b[0m \u001b[0mdirs\u001b[0m\u001b[1;33m,\u001b[0m \u001b[0mfiles\u001b[0m \u001b[1;32min\u001b[0m \u001b[0mos\u001b[0m\u001b[1;33m.\u001b[0m\u001b[0mwalk\u001b[0m\u001b[1;33m(\u001b[0m\u001b[1;34mf'E:/TrabajoFinGrado/Data2/{a}'\u001b[0m\u001b[1;33m)\u001b[0m\u001b[1;33m:\u001b[0m\u001b[1;31m#Recorremos carpeta donde estan todos los espectrogramas en HQ\u001b[0m\u001b[1;33m\u001b[0m\u001b[1;33m\u001b[0m\u001b[0m\n\u001b[0;32m     11\u001b[0m             \u001b[1;32mfor\u001b[0m \u001b[0mfile\u001b[0m \u001b[1;32min\u001b[0m \u001b[0mfiles\u001b[0m\u001b[1;33m:\u001b[0m\u001b[1;31m#Filtramos solo por Files\u001b[0m\u001b[1;33m\u001b[0m\u001b[1;33m\u001b[0m\u001b[0m\n",
      "\u001b[1;32m~\\Anaconda\\lib\\pathlib.py\u001b[0m in \u001b[0;36mmkdir\u001b[1;34m(self, mode, parents, exist_ok)\u001b[0m\n\u001b[0;32m   1249\u001b[0m             \u001b[0mself\u001b[0m\u001b[1;33m.\u001b[0m\u001b[0m_raise_closed\u001b[0m\u001b[1;33m(\u001b[0m\u001b[1;33m)\u001b[0m\u001b[1;33m\u001b[0m\u001b[1;33m\u001b[0m\u001b[0m\n\u001b[0;32m   1250\u001b[0m         \u001b[1;32mtry\u001b[0m\u001b[1;33m:\u001b[0m\u001b[1;33m\u001b[0m\u001b[1;33m\u001b[0m\u001b[0m\n\u001b[1;32m-> 1251\u001b[1;33m             \u001b[0mself\u001b[0m\u001b[1;33m.\u001b[0m\u001b[0m_accessor\u001b[0m\u001b[1;33m.\u001b[0m\u001b[0mmkdir\u001b[0m\u001b[1;33m(\u001b[0m\u001b[0mself\u001b[0m\u001b[1;33m,\u001b[0m \u001b[0mmode\u001b[0m\u001b[1;33m)\u001b[0m\u001b[1;33m\u001b[0m\u001b[1;33m\u001b[0m\u001b[0m\n\u001b[0m\u001b[0;32m   1252\u001b[0m         \u001b[1;32mexcept\u001b[0m \u001b[0mFileNotFoundError\u001b[0m\u001b[1;33m:\u001b[0m\u001b[1;33m\u001b[0m\u001b[1;33m\u001b[0m\u001b[0m\n\u001b[0;32m   1253\u001b[0m             \u001b[1;32mif\u001b[0m \u001b[1;32mnot\u001b[0m \u001b[0mparents\u001b[0m \u001b[1;32mor\u001b[0m \u001b[0mself\u001b[0m\u001b[1;33m.\u001b[0m\u001b[0mparent\u001b[0m \u001b[1;33m==\u001b[0m \u001b[0mself\u001b[0m\u001b[1;33m:\u001b[0m\u001b[1;33m\u001b[0m\u001b[1;33m\u001b[0m\u001b[0m\n",
      "\u001b[1;31mKeyboardInterrupt\u001b[0m: "
     ]
    }
   ],
   "source": [
    "rutaActual = '/Users/andre/OneDrive/Escritorio/TFG/Codigo'\n",
    "rutaDisco = 'E:/TrabajoFinGrado/Data2'\n",
    "\n",
    "PruebaDataset=[]\n",
    "with open('/Users/andre/OneDrive/Escritorio/TFG/Codigo/People.csv') as csvDataFile:#/Users/andre/OneDrive/Escritorio/BiometryVoice/BiometriaPorVoz-master/dataset/procesado/People.csv\n",
    "    PruebaDataset = csv.reader(csvDataFile)\n",
    "    \n",
    "    for a in PruebaDataset:#Recorremos el CSV, siendo a cada id    \n",
    "        pathlib.Path(f'E:/TrabajoFinGrado/Data2_200x200/{a}').mkdir(parents=True, exist_ok=True)#Creamos carpetas para cada id\n",
    "        for root, dirs, files in os.walk(f'E:/TrabajoFinGrado/Data2/{a}'):#Recorremos carpeta donde estan todos los espectrogramas en HQ\n",
    "            for file in files:#Filtramos solo por Files\n",
    "                if file.endswith(\".png\"):#Filtramos solo aquellos que tengan .png\n",
    "                    image_path = f'E:/TrabajoFinGrado/Data2/{a}/{file}'\n",
    "                    save_path = f'E:/TrabajoFinGrado/Data2_200x200/{a}/{file}'\n",
    "                    alto = 200\n",
    "                    bajo = 200\n",
    "                    \n",
    "                    foo = Image.open(image_path)#/Users/andre/OneDrive/Escritorio/Audio1.png\n",
    "                    foo = foo.resize((alto,bajo), Image.ANTIALIAS)\n",
    "                    foo.save(save_path, quality=95)\n",
    "                    \n",
    "\n",
    "                    "
   ]
  },
  {
   "cell_type": "code",
   "execution_count": 59,
   "metadata": {},
   "outputs": [],
   "source": []
  },
  {
   "cell_type": "code",
   "execution_count": 5,
   "metadata": {},
   "outputs": [
    {
     "data": {
      "text/plain": [
       "'cmap = plt.get_cmap(\\'inferno\\')\\nplt.figure(figsize=(10,10))\\n\\nPruebaDataset=[]\\nwith open(\\'/Users/andre/OneDrive/Escritorio/TFG/Codigo/People.csv\\') as csvDataFile:#/Users/andre/OneDrive/Escritorio/BiometryVoice/BiometriaPorVoz-master/dataset/procesado/People.csv\\n    PruebaDataset = csv.reader(csvDataFile)\\n\\n#PruebaDataset = pd.read_csv(\\'/Users/javier/Desktop/BiometryVoice/People.csv\\', header=-1, index_col=0)\\n# Creación de datagramas para cada identificador\\n    for a in PruebaDataset:#Recorremos el CSV, siendo a cada id\\n        #pathlib.Path(f\\'Data/{a}\\').mkdir(parents=True, exist_ok=True)#Por Cada Id, creamos carpeta con su nombre dentro de la carpeta recien creada \"Data\" --> https://stackoverflow.com/questions/600268/mkdir-p-functionality-in-python\\n        pathlib.Path(f\\'Data2/{a}\\').mkdir(parents=True, exist_ok=True)#Por Cada Id, creamos carpeta con su nombre dentro de la carpeta recien creada \"Data\" --> https://stackoverflow.com/questions/600268/mkdir-p-functionality-in-python  \\n        for root, dirs, files in os.walk(f\\'./DatasetTest/{a}\\'):#Recorremos carpeta donde estan todos los wav\\n            for file in files:#Filtramos solo por Files\\n                if file.endswith(\".wav\"):#Filtramos solo aquellos que tengan .wav\\n                    songname = f\\'./DatasetTest/{a}/{file}\\'#Guardamos el nombre de la cancion\\n                    #print(\\'Audio: %s\\' % songname)\\n                    y, sr = librosa.load(songname, mono=True, duration=5)#Realizamos Datagramas\\n                    plt.specgram(y, NFFT=2048, Fs=2, Fc=0, noverlap=2008, cmap=cmap, sides=\\'default\\', mode=\\'default\\', scale=\\'dB\\');\\n                    plt.axis(\\'off\\');\\n                    plt.savefig(f\\'Data2/{a}/{file[:-3].replace(\".\", \"\")}.png\\')#Guardamos en Data/Idxxxxx, cambiamos el punto por nada\\n                    plt.clf()#plt.clf()'"
      ]
     },
     "execution_count": 5,
     "metadata": {},
     "output_type": "execute_result"
    }
   ],
   "source": [
    "\"\"\"cmap = plt.get_cmap('inferno')\n",
    "plt.figure(figsize=(10,10))\n",
    "\n",
    "PruebaDataset=[]\n",
    "with open('/Users/andre/OneDrive/Escritorio/TFG/Codigo/People.csv') as csvDataFile:#/Users/andre/OneDrive/Escritorio/BiometryVoice/BiometriaPorVoz-master/dataset/procesado/People.csv\n",
    "    PruebaDataset = csv.reader(csvDataFile)\n",
    "\n",
    "#PruebaDataset = pd.read_csv('/Users/javier/Desktop/BiometryVoice/People.csv', header=-1, index_col=0)\n",
    "# Creación de datagramas para cada identificador\n",
    "    for a in PruebaDataset:#Recorremos el CSV, siendo a cada id\n",
    "        #pathlib.Path(f'Data/{a}').mkdir(parents=True, exist_ok=True)#Por Cada Id, creamos carpeta con su nombre dentro de la carpeta recien creada \"Data\" --> https://stackoverflow.com/questions/600268/mkdir-p-functionality-in-python\n",
    "        pathlib.Path(f'Data2/{a}').mkdir(parents=True, exist_ok=True)#Por Cada Id, creamos carpeta con su nombre dentro de la carpeta recien creada \"Data\" --> https://stackoverflow.com/questions/600268/mkdir-p-functionality-in-python  \n",
    "        for root, dirs, files in os.walk(f'./DatasetTest/{a}'):#Recorremos carpeta donde estan todos los wav\n",
    "            for file in files:#Filtramos solo por Files\n",
    "                if file.endswith(\".wav\"):#Filtramos solo aquellos que tengan .wav\n",
    "                    songname = f'./DatasetTest/{a}/{file}'#Cogemos el nombre de la cancion\n",
    "                    #print('Audio: %s' % songname)\n",
    "                    y, sr = librosa.load(songname, mono=True, duration=5)#Realizamos Datagramas\n",
    "                    plt.specgram(y, NFFT=2048, Fs=2, Fc=0, noverlap=2008, cmap=cmap, sides='default', mode='default', scale='dB');\n",
    "                    plt.axis('off');\n",
    "                    plt.savefig(f'Data2/{a}/{file[:-3].replace(\".\", \"\")}.png')#Guardamos en Data/Idxxxxx, cambiamos el punto por nada\n",
    "                    plt.clf()#plt.clf()\"\"\" "
   ]
  },
  {
   "cell_type": "code",
   "execution_count": null,
   "metadata": {},
   "outputs": [],
   "source": []
  }
 ],
 "metadata": {
  "kernelspec": {
   "display_name": "Python 3",
   "language": "python",
   "name": "python3"
  },
  "language_info": {
   "codemirror_mode": {
    "name": "ipython",
    "version": 3
   },
   "file_extension": ".py",
   "mimetype": "text/x-python",
   "name": "python",
   "nbconvert_exporter": "python",
   "pygments_lexer": "ipython3",
   "version": "3.7.3"
  }
 },
 "nbformat": 4,
 "nbformat_minor": 4
}
