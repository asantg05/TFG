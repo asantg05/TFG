{
 "cells": [
  {
   "cell_type": "code",
   "execution_count": 1,
   "metadata": {},
   "outputs": [],
   "source": [
    "import librosa #Paquete de analisis de audio\n",
    "import librosa.display\n",
    "import IPython.display as ipd\n",
    "import pandas as pd\n",
    "import numpy as np\n",
    "import matplotlib.pyplot as plt\n",
    "%matplotlib inline\n",
    "import glob\n",
    "import os\n",
    "from PIL import Image\n",
    "import pathlib\n",
    "import csv\n",
    "\n",
    "from sklearn.model_selection import train_test_split\n",
    "from sklearn.preprocessing import LabelEncoder, StandardScaler\n",
    "from sklearn import preprocessing"
   ]
  },
  {
   "cell_type": "code",
   "execution_count": 2,
   "metadata": {},
   "outputs": [
    {
     "data": {
      "text/html": [
       "<div>\n",
       "<style scoped>\n",
       "    .dataframe tbody tr th:only-of-type {\n",
       "        vertical-align: middle;\n",
       "    }\n",
       "\n",
       "    .dataframe tbody tr th {\n",
       "        vertical-align: top;\n",
       "    }\n",
       "\n",
       "    .dataframe thead th {\n",
       "        text-align: right;\n",
       "    }\n",
       "</style>\n",
       "<table border=\"1\" class=\"dataframe\">\n",
       "  <thead>\n",
       "    <tr style=\"text-align: right;\">\n",
       "      <th></th>\n",
       "      <th>filename</th>\n",
       "      <th>chroma_stft</th>\n",
       "      <th>rmse</th>\n",
       "      <th>spectral_centroid</th>\n",
       "      <th>spectral_bandwidth</th>\n",
       "      <th>rolloff</th>\n",
       "      <th>zero_crossing_rate</th>\n",
       "      <th>mfcc1</th>\n",
       "      <th>mfcc2</th>\n",
       "      <th>mfcc3</th>\n",
       "      <th>...</th>\n",
       "      <th>mfcc12</th>\n",
       "      <th>mfcc13</th>\n",
       "      <th>mfcc14</th>\n",
       "      <th>mfcc15</th>\n",
       "      <th>mfcc16</th>\n",
       "      <th>mfcc17</th>\n",
       "      <th>mfcc18</th>\n",
       "      <th>mfcc19</th>\n",
       "      <th>mfcc20</th>\n",
       "      <th>label</th>\n",
       "    </tr>\n",
       "  </thead>\n",
       "  <tbody>\n",
       "    <tr>\n",
       "      <th>0</th>\n",
       "      <td>Audio1.wav</td>\n",
       "      <td>0.374350</td>\n",
       "      <td>0.053845</td>\n",
       "      <td>1965.682320</td>\n",
       "      <td>1615.392815</td>\n",
       "      <td>3758.319355</td>\n",
       "      <td>0.115206</td>\n",
       "      <td>-251.557526</td>\n",
       "      <td>122.310768</td>\n",
       "      <td>-40.907310</td>\n",
       "      <td>...</td>\n",
       "      <td>-13.192103</td>\n",
       "      <td>0.880217</td>\n",
       "      <td>-18.683870</td>\n",
       "      <td>3.074591</td>\n",
       "      <td>-13.036599</td>\n",
       "      <td>-10.126388</td>\n",
       "      <td>-4.930336</td>\n",
       "      <td>-7.613022</td>\n",
       "      <td>-9.723351</td>\n",
       "      <td>['id10001']</td>\n",
       "    </tr>\n",
       "    <tr>\n",
       "      <th>1</th>\n",
       "      <td>Audio10.wav</td>\n",
       "      <td>0.343509</td>\n",
       "      <td>0.055478</td>\n",
       "      <td>1771.943045</td>\n",
       "      <td>1531.637893</td>\n",
       "      <td>3364.967140</td>\n",
       "      <td>0.096564</td>\n",
       "      <td>-258.922302</td>\n",
       "      <td>130.249344</td>\n",
       "      <td>-46.288002</td>\n",
       "      <td>...</td>\n",
       "      <td>-11.412473</td>\n",
       "      <td>2.987354</td>\n",
       "      <td>-18.023815</td>\n",
       "      <td>1.100359</td>\n",
       "      <td>-9.930485</td>\n",
       "      <td>-12.599640</td>\n",
       "      <td>-5.048801</td>\n",
       "      <td>-5.932458</td>\n",
       "      <td>-8.263415</td>\n",
       "      <td>['id10001']</td>\n",
       "    </tr>\n",
       "    <tr>\n",
       "      <th>2</th>\n",
       "      <td>Audio11.wav</td>\n",
       "      <td>0.361852</td>\n",
       "      <td>0.037427</td>\n",
       "      <td>1845.683655</td>\n",
       "      <td>1720.180568</td>\n",
       "      <td>3548.118882</td>\n",
       "      <td>0.106438</td>\n",
       "      <td>-293.797058</td>\n",
       "      <td>125.556908</td>\n",
       "      <td>-31.383408</td>\n",
       "      <td>...</td>\n",
       "      <td>-5.537814</td>\n",
       "      <td>3.552005</td>\n",
       "      <td>-18.380121</td>\n",
       "      <td>7.791273</td>\n",
       "      <td>-14.333706</td>\n",
       "      <td>-0.354537</td>\n",
       "      <td>-5.532031</td>\n",
       "      <td>-1.329604</td>\n",
       "      <td>-3.782263</td>\n",
       "      <td>['id10001']</td>\n",
       "    </tr>\n",
       "    <tr>\n",
       "      <th>3</th>\n",
       "      <td>Audio12.wav</td>\n",
       "      <td>0.370827</td>\n",
       "      <td>0.058004</td>\n",
       "      <td>1630.207162</td>\n",
       "      <td>1549.959824</td>\n",
       "      <td>3234.462260</td>\n",
       "      <td>0.081284</td>\n",
       "      <td>-272.567719</td>\n",
       "      <td>135.305984</td>\n",
       "      <td>-27.281111</td>\n",
       "      <td>...</td>\n",
       "      <td>-9.818530</td>\n",
       "      <td>1.679797</td>\n",
       "      <td>-13.206263</td>\n",
       "      <td>5.363429</td>\n",
       "      <td>-8.567389</td>\n",
       "      <td>-5.418140</td>\n",
       "      <td>-3.591171</td>\n",
       "      <td>-1.071382</td>\n",
       "      <td>-5.491786</td>\n",
       "      <td>['id10001']</td>\n",
       "    </tr>\n",
       "    <tr>\n",
       "      <th>4</th>\n",
       "      <td>Audio13.wav</td>\n",
       "      <td>0.386647</td>\n",
       "      <td>0.030166</td>\n",
       "      <td>1629.170753</td>\n",
       "      <td>1570.610481</td>\n",
       "      <td>3089.857308</td>\n",
       "      <td>0.096611</td>\n",
       "      <td>-344.663879</td>\n",
       "      <td>130.001419</td>\n",
       "      <td>-9.767311</td>\n",
       "      <td>...</td>\n",
       "      <td>-4.316083</td>\n",
       "      <td>3.136457</td>\n",
       "      <td>-7.597161</td>\n",
       "      <td>1.629692</td>\n",
       "      <td>-8.392146</td>\n",
       "      <td>-3.011672</td>\n",
       "      <td>-4.094692</td>\n",
       "      <td>-3.789023</td>\n",
       "      <td>-3.145382</td>\n",
       "      <td>['id10001']</td>\n",
       "    </tr>\n",
       "  </tbody>\n",
       "</table>\n",
       "<p>5 rows × 28 columns</p>\n",
       "</div>"
      ],
      "text/plain": [
       "      filename  chroma_stft      rmse  spectral_centroid  spectral_bandwidth  \\\n",
       "0   Audio1.wav     0.374350  0.053845        1965.682320         1615.392815   \n",
       "1  Audio10.wav     0.343509  0.055478        1771.943045         1531.637893   \n",
       "2  Audio11.wav     0.361852  0.037427        1845.683655         1720.180568   \n",
       "3  Audio12.wav     0.370827  0.058004        1630.207162         1549.959824   \n",
       "4  Audio13.wav     0.386647  0.030166        1629.170753         1570.610481   \n",
       "\n",
       "       rolloff  zero_crossing_rate       mfcc1       mfcc2      mfcc3  ...  \\\n",
       "0  3758.319355            0.115206 -251.557526  122.310768 -40.907310  ...   \n",
       "1  3364.967140            0.096564 -258.922302  130.249344 -46.288002  ...   \n",
       "2  3548.118882            0.106438 -293.797058  125.556908 -31.383408  ...   \n",
       "3  3234.462260            0.081284 -272.567719  135.305984 -27.281111  ...   \n",
       "4  3089.857308            0.096611 -344.663879  130.001419  -9.767311  ...   \n",
       "\n",
       "      mfcc12    mfcc13     mfcc14    mfcc15     mfcc16     mfcc17    mfcc18  \\\n",
       "0 -13.192103  0.880217 -18.683870  3.074591 -13.036599 -10.126388 -4.930336   \n",
       "1 -11.412473  2.987354 -18.023815  1.100359  -9.930485 -12.599640 -5.048801   \n",
       "2  -5.537814  3.552005 -18.380121  7.791273 -14.333706  -0.354537 -5.532031   \n",
       "3  -9.818530  1.679797 -13.206263  5.363429  -8.567389  -5.418140 -3.591171   \n",
       "4  -4.316083  3.136457  -7.597161  1.629692  -8.392146  -3.011672 -4.094692   \n",
       "\n",
       "     mfcc19    mfcc20        label  \n",
       "0 -7.613022 -9.723351  ['id10001']  \n",
       "1 -5.932458 -8.263415  ['id10001']  \n",
       "2 -1.329604 -3.782263  ['id10001']  \n",
       "3 -1.071382 -5.491786  ['id10001']  \n",
       "4 -3.789023 -3.145382  ['id10001']  \n",
       "\n",
       "[5 rows x 28 columns]"
      ]
     },
     "execution_count": 2,
     "metadata": {},
     "output_type": "execute_result"
    }
   ],
   "source": [
    "data = pd.read_csv('/Users/andre/OneDrive/Escritorio/Biometry_Voice/BiometriaPorVoz-master/data.csv')\n",
    "data.head()"
   ]
  },
  {
   "cell_type": "code",
   "execution_count": 3,
   "metadata": {},
   "outputs": [
    {
     "data": {
      "text/plain": [
       "(161, 28)"
      ]
     },
     "execution_count": 3,
     "metadata": {},
     "output_type": "execute_result"
    }
   ],
   "source": [
    "data.shape"
   ]
  },
  {
   "cell_type": "code",
   "execution_count": 4,
   "metadata": {},
   "outputs": [],
   "source": [
    "data = data.drop(['filename'],axis=1)"
   ]
  },
  {
   "cell_type": "code",
   "execution_count": 5,
   "metadata": {},
   "outputs": [],
   "source": [
    "idList = data.iloc[:, -1] #Con \"iloc\" Seleccionamos la columna de los id's\n",
    "encoder = LabelEncoder()\n",
    "y = encoder.fit_transform(idList) #Ajustar a los datos, luego transformarlo."
   ]
  },
  {
   "cell_type": "code",
   "execution_count": 6,
   "metadata": {},
   "outputs": [],
   "source": [
    "scaler = StandardScaler() #Estandariza las características eliminando la media y escalando a la varianza unitaria\n",
    "X = scaler.fit_transform(np.array(data.iloc[:, :-1], dtype = float)) #Ajusta el transformador a X y devuelve una versión transformada de X."
   ]
  },
  {
   "cell_type": "code",
   "execution_count": 7,
   "metadata": {},
   "outputs": [],
   "source": [
    "X_train, X_test, y_train, y_test = train_test_split(X, y, test_size=0.2) #Dividir los datos en el conjunto de entrenamiento y pruebas"
   ]
  },
  {
   "cell_type": "code",
   "execution_count": 8,
   "metadata": {},
   "outputs": [
    {
     "data": {
      "text/plain": [
       "128"
      ]
     },
     "execution_count": 8,
     "metadata": {},
     "output_type": "execute_result"
    }
   ],
   "source": [
    "len(y_train)"
   ]
  },
  {
   "cell_type": "code",
   "execution_count": 9,
   "metadata": {},
   "outputs": [
    {
     "data": {
      "text/plain": [
       "33"
      ]
     },
     "execution_count": 9,
     "metadata": {},
     "output_type": "execute_result"
    }
   ],
   "source": [
    "len(y_test)"
   ]
  },
  {
   "cell_type": "code",
   "execution_count": 10,
   "metadata": {},
   "outputs": [
    {
     "data": {
      "text/plain": [
       "array([ 0.27478781,  0.06338621,  2.10441177,  1.24510978,  1.87537361,\n",
       "        1.98217791,  0.90611507, -1.90250213, -1.11090513,  1.23459213,\n",
       "       -1.84663373, -0.2217592 , -1.7736343 , -1.27380488, -0.53352751,\n",
       "       -1.16438892, -1.90795991, -1.58881625, -0.78824254, -1.80526537,\n",
       "       -0.52255423, -0.85743264, -1.72199883, -0.92533933, -1.88350986,\n",
       "       -2.21055066])"
      ]
     },
     "execution_count": 10,
     "metadata": {},
     "output_type": "execute_result"
    }
   ],
   "source": [
    "X_train[10] "
   ]
  },
  {
   "cell_type": "code",
   "execution_count": 11,
   "metadata": {},
   "outputs": [
    {
     "name": "stderr",
     "output_type": "stream",
     "text": [
      "Using TensorFlow backend.\n"
     ]
    }
   ],
   "source": [
    "#Construyendo la red neuronal\n",
    "from keras import models\n",
    "from keras import layers\n",
    "\n",
    "model = models.Sequential() #iniciamos los métodos de modelo seqüenciales\n",
    "model.add(layers.Dense(256, activation='relu', input_shape=(X_train.shape[1],)))\n",
    "\n",
    "model.add(layers.Dense(128, activation='relu'))\n",
    "\n",
    "model.add(layers.Dense(64, activation='relu'))\n",
    "\n",
    "model.add(layers.Dense(32, activation='softmax'))"
   ]
  },
  {
   "cell_type": "code",
   "execution_count": 12,
   "metadata": {},
   "outputs": [],
   "source": [
    "model.compile(optimizer='adam',\n",
    "              loss='sparse_categorical_crossentropy',\n",
    "              metrics=['accuracy'])"
   ]
  },
  {
   "cell_type": "code",
   "execution_count": 13,
   "metadata": {},
   "outputs": [
    {
     "name": "stdout",
     "output_type": "stream",
     "text": [
      "WARNING:tensorflow:From C:\\Users\\andre\\Anaconda\\lib\\site-packages\\keras\\backend\\tensorflow_backend.py:422: The name tf.global_variables is deprecated. Please use tf.compat.v1.global_variables instead.\n",
      "\n",
      "Epoch 1/30\n",
      "128/128 [==============================] - 1s 10ms/step - loss: 3.3333 - accuracy: 0.0703\n",
      "Epoch 2/30\n",
      "128/128 [==============================] - 0s 122us/step - loss: 3.0782 - accuracy: 0.5078\n",
      "Epoch 3/30\n",
      "128/128 [==============================] - 0s 244us/step - loss: 2.8238 - accuracy: 0.7422\n",
      "Epoch 4/30\n",
      "128/128 [==============================] - 0s 0us/step - loss: 2.5638 - accuracy: 0.9375\n",
      "Epoch 5/30\n",
      "128/128 [==============================] - 0s 0us/step - loss: 2.2975 - accuracy: 0.9609\n",
      "Epoch 6/30\n",
      "128/128 [==============================] - 0s 244us/step - loss: 2.0214 - accuracy: 0.9609\n",
      "Epoch 7/30\n",
      "128/128 [==============================] - 0s 0us/step - loss: 1.7362 - accuracy: 0.9766\n",
      "Epoch 8/30\n",
      "128/128 [==============================] - 0s 0us/step - loss: 1.4475 - accuracy: 0.9766\n",
      "Epoch 9/30\n",
      "128/128 [==============================] - 0s 0us/step - loss: 1.1638 - accuracy: 0.9766\n",
      "Epoch 10/30\n",
      "128/128 [==============================] - 0s 122us/step - loss: 0.8975 - accuracy: 0.9766\n",
      "Epoch 11/30\n",
      "128/128 [==============================] - 0s 122us/step - loss: 0.6636 - accuracy: 0.9766\n",
      "Epoch 12/30\n",
      "128/128 [==============================] - 0s 122us/step - loss: 0.4729 - accuracy: 0.9766\n",
      "Epoch 13/30\n",
      "128/128 [==============================] - 0s 122us/step - loss: 0.3290 - accuracy: 0.9766\n",
      "Epoch 14/30\n",
      "128/128 [==============================] - 0s 122us/step - loss: 0.2279 - accuracy: 0.9766\n",
      "Epoch 15/30\n",
      "128/128 [==============================] - 0s 0us/step - loss: 0.1601 - accuracy: 0.9766\n",
      "Epoch 16/30\n",
      "128/128 [==============================] - 0s 122us/step - loss: 0.1153 - accuracy: 0.9766\n",
      "Epoch 17/30\n",
      "128/128 [==============================] - 0s 0us/step - loss: 0.0855 - accuracy: 0.9844\n",
      "Epoch 18/30\n",
      "128/128 [==============================] - 0s 122us/step - loss: 0.0649 - accuracy: 0.9844\n",
      "Epoch 19/30\n",
      "128/128 [==============================] - 0s 122us/step - loss: 0.0500 - accuracy: 0.9844\n",
      "Epoch 20/30\n",
      "128/128 [==============================] - 0s 122us/step - loss: 0.0389 - accuracy: 0.9922\n",
      "Epoch 21/30\n",
      "128/128 [==============================] - 0s 122us/step - loss: 0.0304 - accuracy: 0.9922\n",
      "Epoch 22/30\n",
      "128/128 [==============================] - 0s 122us/step - loss: 0.0239 - accuracy: 1.0000\n",
      "Epoch 23/30\n",
      "128/128 [==============================] - 0s 0us/step - loss: 0.0189 - accuracy: 1.0000\n",
      "Epoch 24/30\n",
      "128/128 [==============================] - 0s 0us/step - loss: 0.0151 - accuracy: 1.0000\n",
      "Epoch 25/30\n",
      "128/128 [==============================] - 0s 0us/step - loss: 0.0123 - accuracy: 1.0000\n",
      "Epoch 26/30\n",
      "128/128 [==============================] - 0s 122us/step - loss: 0.0102 - accuracy: 1.0000\n",
      "Epoch 27/30\n",
      "128/128 [==============================] - 0s 122us/step - loss: 0.0085 - accuracy: 1.0000\n",
      "Epoch 28/30\n",
      "128/128 [==============================] - 0s 122us/step - loss: 0.0072 - accuracy: 1.0000\n",
      "Epoch 29/30\n",
      "128/128 [==============================] - 0s 0us/step - loss: 0.0061 - accuracy: 1.0000\n",
      "Epoch 30/30\n",
      "128/128 [==============================] - 0s 122us/step - loss: 0.0052 - accuracy: 1.0000\n"
     ]
    }
   ],
   "source": [
    "history = model.fit(X_train,\n",
    "                    y_train,\n",
    "                    epochs=30,\n",
    "                    batch_size=256)"
   ]
  },
  {
   "cell_type": "code",
   "execution_count": 14,
   "metadata": {},
   "outputs": [
    {
     "name": "stdout",
     "output_type": "stream",
     "text": [
      "33/33 [==============================] - 0s 7ms/step\n"
     ]
    }
   ],
   "source": [
    "test_loss, test_acc = model.evaluate(X_test,y_test)"
   ]
  },
  {
   "cell_type": "code",
   "execution_count": 15,
   "metadata": {},
   "outputs": [
    {
     "name": "stdout",
     "output_type": "stream",
     "text": [
      "test_acc:  0.9696969985961914\n"
     ]
    }
   ],
   "source": [
    "print('test_acc: ',test_acc)"
   ]
  },
  {
   "cell_type": "code",
   "execution_count": 16,
   "metadata": {},
   "outputs": [],
   "source": [
    "x_val = X_train[:558]\n",
    "partial_x_train = X_train[558:]\n",
    "\n",
    "y_val = y_train[:558]\n",
    "partial_y_train = y_train[558:]"
   ]
  },
  {
   "cell_type": "code",
   "execution_count": 17,
   "metadata": {},
   "outputs": [
    {
     "name": "stdout",
     "output_type": "stream",
     "text": [
      "Train on 0 samples, validate on 128 samples\n",
      "Epoch 1/30\n"
     ]
    },
    {
     "ename": "UnboundLocalError",
     "evalue": "local variable 'batch_index' referenced before assignment",
     "output_type": "error",
     "traceback": [
      "\u001b[1;31m---------------------------------------------------------------------------\u001b[0m",
      "\u001b[1;31mUnboundLocalError\u001b[0m                         Traceback (most recent call last)",
      "\u001b[1;32m<ipython-input-17-acbb689ec9e3>\u001b[0m in \u001b[0;36m<module>\u001b[1;34m\u001b[0m\n\u001b[0;32m     13\u001b[0m           \u001b[0mepochs\u001b[0m\u001b[1;33m=\u001b[0m\u001b[1;36m30\u001b[0m\u001b[1;33m,\u001b[0m\u001b[1;33m\u001b[0m\u001b[1;33m\u001b[0m\u001b[0m\n\u001b[0;32m     14\u001b[0m           \u001b[0mbatch_size\u001b[0m\u001b[1;33m=\u001b[0m\u001b[1;36m512\u001b[0m\u001b[1;33m,\u001b[0m\u001b[1;33m\u001b[0m\u001b[1;33m\u001b[0m\u001b[0m\n\u001b[1;32m---> 15\u001b[1;33m           validation_data=(x_val, y_val))\n\u001b[0m\u001b[0;32m     16\u001b[0m \u001b[0mresults\u001b[0m \u001b[1;33m=\u001b[0m \u001b[0mmodel\u001b[0m\u001b[1;33m.\u001b[0m\u001b[0mevaluate\u001b[0m\u001b[1;33m(\u001b[0m\u001b[0mX_test\u001b[0m\u001b[1;33m,\u001b[0m \u001b[0my_test\u001b[0m\u001b[1;33m)\u001b[0m\u001b[1;33m\u001b[0m\u001b[1;33m\u001b[0m\u001b[0m\n",
      "\u001b[1;32m~\\Anaconda\\lib\\site-packages\\keras\\engine\\training.py\u001b[0m in \u001b[0;36mfit\u001b[1;34m(self, x, y, batch_size, epochs, verbose, callbacks, validation_split, validation_data, shuffle, class_weight, sample_weight, initial_epoch, steps_per_epoch, validation_steps, validation_freq, max_queue_size, workers, use_multiprocessing, **kwargs)\u001b[0m\n\u001b[0;32m   1237\u001b[0m                                         \u001b[0msteps_per_epoch\u001b[0m\u001b[1;33m=\u001b[0m\u001b[0msteps_per_epoch\u001b[0m\u001b[1;33m,\u001b[0m\u001b[1;33m\u001b[0m\u001b[1;33m\u001b[0m\u001b[0m\n\u001b[0;32m   1238\u001b[0m                                         \u001b[0mvalidation_steps\u001b[0m\u001b[1;33m=\u001b[0m\u001b[0mvalidation_steps\u001b[0m\u001b[1;33m,\u001b[0m\u001b[1;33m\u001b[0m\u001b[1;33m\u001b[0m\u001b[0m\n\u001b[1;32m-> 1239\u001b[1;33m                                         validation_freq=validation_freq)\n\u001b[0m\u001b[0;32m   1240\u001b[0m \u001b[1;33m\u001b[0m\u001b[0m\n\u001b[0;32m   1241\u001b[0m     def evaluate(self,\n",
      "\u001b[1;32m~\\Anaconda\\lib\\site-packages\\keras\\engine\\training_arrays.py\u001b[0m in \u001b[0;36mfit_loop\u001b[1;34m(model, fit_function, fit_inputs, out_labels, batch_size, epochs, verbose, callbacks, val_function, val_inputs, shuffle, initial_epoch, steps_per_epoch, validation_steps, validation_freq)\u001b[0m\n\u001b[0;32m    203\u001b[0m                     \u001b[1;32mbreak\u001b[0m\u001b[1;33m\u001b[0m\u001b[1;33m\u001b[0m\u001b[0m\n\u001b[0;32m    204\u001b[0m \u001b[1;33m\u001b[0m\u001b[0m\n\u001b[1;32m--> 205\u001b[1;33m             \u001b[1;32mif\u001b[0m \u001b[0mbatch_index\u001b[0m \u001b[1;33m==\u001b[0m \u001b[0mlen\u001b[0m\u001b[1;33m(\u001b[0m\u001b[0mbatches\u001b[0m\u001b[1;33m)\u001b[0m \u001b[1;33m-\u001b[0m \u001b[1;36m1\u001b[0m\u001b[1;33m:\u001b[0m  \u001b[1;31m# Last batch.\u001b[0m\u001b[1;33m\u001b[0m\u001b[1;33m\u001b[0m\u001b[0m\n\u001b[0m\u001b[0;32m    206\u001b[0m                 \u001b[1;32mif\u001b[0m \u001b[0mdo_validation\u001b[0m \u001b[1;32mand\u001b[0m \u001b[0mshould_run_validation\u001b[0m\u001b[1;33m(\u001b[0m\u001b[0mvalidation_freq\u001b[0m\u001b[1;33m,\u001b[0m \u001b[0mepoch\u001b[0m\u001b[1;33m)\u001b[0m\u001b[1;33m:\u001b[0m\u001b[1;33m\u001b[0m\u001b[1;33m\u001b[0m\u001b[0m\n\u001b[0;32m    207\u001b[0m                     val_outs = test_loop(model, val_function, val_inputs,\n",
      "\u001b[1;31mUnboundLocalError\u001b[0m: local variable 'batch_index' referenced before assignment"
     ]
    }
   ],
   "source": [
    "model.add(layers.Dense(512, activation='relu', input_shape=(X_train.shape[1],)))\n",
    "model.add(layers.Dense(256, activation='relu'))\n",
    "model.add(layers.Dense(128, activation='relu'))\n",
    "model.add(layers.Dense(64, activation='relu'))\n",
    "model.add(layers.Dense(20, activation='softmax'))\n",
    "\n",
    "model.compile(optimizer='adam',\n",
    "              loss='sparse_categorical_crossentropy',\n",
    "              metrics=['accuracy'])\n",
    "\n",
    "model.fit(partial_x_train,\n",
    "          partial_y_train,\n",
    "          epochs=30,\n",
    "          batch_size=512,\n",
    "          validation_data=(x_val, y_val))\n",
    "results = model.evaluate(X_test, y_test)"
   ]
  },
  {
   "cell_type": "code",
   "execution_count": null,
   "metadata": {},
   "outputs": [],
   "source": [
    "results"
   ]
  },
  {
   "cell_type": "code",
   "execution_count": null,
   "metadata": {},
   "outputs": [],
   "source": [
    "predictions = model.predict(X_test)"
   ]
  },
  {
   "cell_type": "code",
   "execution_count": null,
   "metadata": {},
   "outputs": [],
   "source": [
    "predictions[0].shape"
   ]
  },
  {
   "cell_type": "code",
   "execution_count": null,
   "metadata": {},
   "outputs": [],
   "source": [
    "np.sum(predictions[0])"
   ]
  },
  {
   "cell_type": "code",
   "execution_count": null,
   "metadata": {},
   "outputs": [],
   "source": [
    "np.argmax(predictions[0])"
   ]
  },
  {
   "cell_type": "code",
   "execution_count": null,
   "metadata": {},
   "outputs": [],
   "source": []
  }
 ],
 "metadata": {
  "kernelspec": {
   "display_name": "Python 3",
   "language": "python",
   "name": "python3"
  },
  "language_info": {
   "codemirror_mode": {
    "name": "ipython",
    "version": 3
   },
   "file_extension": ".py",
   "mimetype": "text/x-python",
   "name": "python",
   "nbconvert_exporter": "python",
   "pygments_lexer": "ipython3",
   "version": "3.7.3"
  }
 },
 "nbformat": 4,
 "nbformat_minor": 4
}
