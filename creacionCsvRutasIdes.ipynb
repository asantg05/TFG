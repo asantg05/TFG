{
 "cells": [
  {
   "cell_type": "code",
   "execution_count": null,
   "metadata": {},
   "outputs": [],
   "source": [
    "# -*- coding: utf-8 -*-\n",
    "\"\"\"\n",
    "Created on Mon Feb 24 01:47:51 2020\n",
    "\n",
    "@author: andre\n",
    "\"\"\"\n",
    "\n",
    "import csv\n",
    "import pandas as pd\n",
    "import os\n",
    "import pathlib\n",
    "\n",
    "os.chdir('F:/TrabajoFinGrado')\n",
    "os.getcwd()\n",
    "\n",
    "cabeceras = [[\"ruta\",\"id\"]]\n",
    "\n",
    "datasetCsv=[]\n",
    "with open('./People3.csv') as csvDataFile:\n",
    "    datasetCsv = csv.reader(csvDataFile)\n",
    "    \n",
    "    myFile = open('./rutas_ides.csv', 'w')\n",
    "    with myFile:\n",
    "        writer = csv.writer(myFile)\n",
    "        writer.writerows(cabeceras)\n",
    "\n",
    "#Filtramos por files de cada id para obtener su ruta completa\n",
    "        for a in datasetCsv:#Recorremos el CSV, siendo a cada id\n",
    "            for root, dirs, files in os.walk(f'F:/TrabajoFinGrado/DataNuevo_720x720/{a}'):#Recorremos carpeta donde estan todos los png\n",
    "                for file in files:#Filtramos solo por Files\n",
    "                    if file.endswith(\".png\"):#Filtramos solo aquellos que tengan .wav\n",
    "                        songname = f'F:/TrabajoFinGrado/DataNuevo_720x720/{a}/{file}'#'F:/TrabajoFinGrado/Data3_500x500/id10270/au0.png'\n",
    "                        print('%s' % songname)\n",
    "                        x = [songname,a]\n",
    "                        \n",
    "                        writer.writerow(x)\n",
    "    \n",
    "    myFile.close()\n",
    "csvDataFile.close()\n",
    "                    \n",
    "\n",
    "\n",
    "\n",
    "\n",
    "\n",
    "    \n",
    "    \n",
    "    \n",
    "    \n",
    "    \n",
    "    \n",
    "    \n",
    "    \n",
    "    \n"
   ]
  }
 ],
 "metadata": {
  "kernelspec": {
   "display_name": "Python 3",
   "language": "python",
   "name": "python3"
  },
  "language_info": {
   "codemirror_mode": {
    "name": "ipython",
    "version": 3
   },
   "file_extension": ".py",
   "mimetype": "text/x-python",
   "name": "python",
   "nbconvert_exporter": "python",
   "pygments_lexer": "ipython3",
   "version": "3.7.3"
  }
 },
 "nbformat": 4,
 "nbformat_minor": 4
}
